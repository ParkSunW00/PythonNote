{
  "nbformat": 4,
  "nbformat_minor": 0,
  "metadata": {
    "kernelspec": {
      "name": "python3",
      "display_name": "Python 3",
      "language": "python"
    },
    "language_info": {
      "mimetype": "text/x-python",
      "nbconvert_exporter": "python",
      "name": "python",
      "pygments_lexer": "ipython3",
      "version": "3.5.4",
      "file_extension": ".py",
      "codemirror_mode": {
        "version": 3,
        "name": "ipython"
      }
    },
    "colab": {
      "name": "1. 파이썬 개요.ipynb",
      "provenance": []
    }
  },
  "cells": [
    {
      "cell_type": "markdown",
      "metadata": {
        "id": "zYDfLewvyCOi",
        "colab_type": "text"
      },
      "source": [
        "# 1장. 파이썬 개요\n",
        "\n",
        "## 1. 파이썬(Python)이란?\n",
        "![python](pythonlogo.png)\n",
        "- 파이썬(python)은 1991년 귀도 반 로섬(Guido van Rossum)이 발표한 프로그래밍 언어이다.\n",
        "- 파이썬의 사전적 의미는 고대 신화에 나오는 파르나소스 산의 동굴에 살던 큰 뱀을 뜻한다. 파이썬 로고가 뱀 모양으로 그려져 있는 이유가 여기에 있다.\n",
        "- 귀도는 파이썬이라는 이름을 자신이 좋아하는 코미디 쇼인 \"몬티 파이썬의 날아다니는 서커스(Monty Python’s Flying Circus)\"에서 따왔다.\n",
        "\n",
        "### 1) 파이썬 특징\n",
        "1. 파이썬은 인터프리터 언어(interpreted language)이다.\n",
        "2. 파이썬은 객체지향, 절차지향 등 다양한 프로그래밍 기법(multi-paradigm programming language)을 지원한다.\n",
        "3. 파이썬은 라이브러리가 다양하다.\n",
        "4. 파이썬은 실행 중에 자료형을 검사(dynamic typing)하고 메모리가 자동으로 관리(garbage collection)된다.\n",
        "\n",
        "### 2) 파이썬은 무료이다.\n",
        "- 파이썬 공식 사이트 https://www.python.org/\n",
        "- 파이썬 공식 Docs https://docs.python.org/3/\n",
        "\n",
        "### 3) 파이썬 철학"
      ]
    },
    {
      "cell_type": "code",
      "metadata": {
        "scrolled": false,
        "trusted": false,
        "id": "zw3I6PgIyCOk",
        "colab_type": "code",
        "colab": {},
        "outputId": "6373d310-d474-4d8b-85b6-d5062ad60d7b"
      },
      "source": [
        "import this"
      ],
      "execution_count": 0,
      "outputs": [
        {
          "output_type": "stream",
          "text": [
            "The Zen of Python, by Tim Peters\n",
            "\n",
            "Beautiful is better than ugly.\n",
            "Explicit is better than implicit.\n",
            "Simple is better than complex.\n",
            "Complex is better than complicated.\n",
            "Flat is better than nested.\n",
            "Sparse is better than dense.\n",
            "Readability counts.\n",
            "Special cases aren't special enough to break the rules.\n",
            "Although practicality beats purity.\n",
            "Errors should never pass silently.\n",
            "Unless explicitly silenced.\n",
            "In the face of ambiguity, refuse the temptation to guess.\n",
            "There should be one-- and preferably only one --obvious way to do it.\n",
            "Although that way may not be obvious at first unless you're Dutch.\n",
            "Now is better than never.\n",
            "Although never is often better than *right* now.\n",
            "If the implementation is hard to explain, it's a bad idea.\n",
            "If the implementation is easy to explain, it may be a good idea.\n",
            "Namespaces are one honking great idea -- let's do more of those!\n"
          ],
          "name": "stdout"
        }
      ]
    },
    {
      "cell_type": "markdown",
      "metadata": {
        "id": "y5i1zdmYyCOo",
        "colab_type": "text"
      },
      "source": [
        "#### \"Life is too short, You need Python.\"\n",
        "\n",
        "### 4) 파이썬 종류\n",
        "- CPython : C 언어로 구현한 파이썬. 기본적으로 파이썬은 CPython을 의미한다.\n",
        "- JPython : Java 언어로 구현한 파이썬. JVM에서 동작한다.\n",
        "- IronPython : .NET 프레임워크용으로 개발한 파이썬. C#으로 구현되었다.\n",
        "- IPython : ipython.org에서 배포하는 쉘. 대화형 작업을 위해 표준 쉘을 확장한 것이다. 보통 통합 개발 환경(IDE)에서 사용되는 대화형 쉘은 IPython을 사용한다.\n",
        "\n",
        "### 5) 파이썬 활용\n",
        "![google](googlelogo.jpeg)\n",
        "![instagram](instagramlogo.jpeg)\n",
        "- 웹 프로그래밍\n",
        "- 데이터베이스 프로그래밍\n",
        "- 데이터 분석\n",
        "- 인공지능\n",
        "\n",
        "#### 용어\n",
        "- 인터프리터(interpreter)는 프로그래밍 언어의 소스 코드를 바로 실행하는 컴퓨터 프로그램 또는 환경을 말한다.\n",
        "- 인터프리터 언어(interpreted language)란 한 줄씩 소스 코드를 해석하고 바로 실행하고 결과를 확인할 수 있는 언어이다.\n",
        "- 파이썬 라이브러리는 파이썬 프로그램을 작성할 때 불러와 사용할 수 있는 미리 만들어 놓은 파이썬 파일 모음이다.\n",
        "- 오픈 소스(Open Source)란 저작권자가 소스 코드를 공개하여 누구나 별다른 제한 없이 자유롭게 사용 · 복제 · 배포 · 수정할 수 있는 소프트웨어이다.\n",
        "- 통합 개발 환경(IDE, Integrated Development Environment) 프로그램이란 프로그래밍에 필요한 여러 가지 도구를 하나로 모은 통합 프로그램이다."
      ]
    },
    {
      "cell_type": "markdown",
      "metadata": {
        "id": "ZpLhX5WcyCOp",
        "colab_type": "text"
      },
      "source": [
        "## 2. 파이썬 개발 환경\n",
        "\n",
        "### 1) 파이썬 설치\n",
        "- 파이썬 표준 배포판은 파이썬 공식 사이트에서 다운받을 수 있다.\n",
        "- 표준 배포판을 사용하면 여러 패키지(라이브러리)를 추가로 설치해야 한다.\n",
        "- 파이썬은 Python 2와 Python 3의 두 가지 버전으로 제공한다. 일부 언어 표준이 변경된 부분이 있어 소스가 호환되지 않을 수 있기 때문에 Python 3를 사용한다.\n",
        "\n",
        "#### 아나콘다(Anaconda) 배포판\n",
        "![ananconda](anacondalogo.png)\n",
        "- 아나콘다 공식 사이트 https://www.anaconda.com/\n",
        "- 아나콘다 배포판은 NumPy, matplotlib 등 필수 패키지를 포함한다.\n",
        "- 아나콘다 배포판은 Jupyter, Spyder 등 통합 개발 환경(IDE)을 제공한다.\n",
        "\n",
        "### 2) 파이썬 에디터\n",
        "- 아이들(IDLE)\n",
        "- 주피터 노트북(Jupyter Notebook)\n",
        "- 비주얼 스튜디오 코드(Visual Studio Code) https://code.visualstudio.com/\n",
        "- 파이참(PyCharm) https://www.jetbrains.com/pycharm/\n",
        "\n",
        "### 3) 가상환경\n",
        "- 한 운영체제에 다른 버전의 같은 프로그램을 여러 개 설치할 경우(환경변수를 잘 관리하지 못할 경우) 충돌로 인해 호환이 안되거나 에러가 발생할 수 있다.\n",
        "- 여러 개의 가상환경을 만들고 각 환경을 독립적으로 운영할 수 있다.\n",
        "- python -m venv"
      ]
    },
    {
      "cell_type": "markdown",
      "metadata": {
        "id": "x7aDaL_ZyCOq",
        "colab_type": "text"
      },
      "source": [
        "## 3. 파이썬 실행\n",
        "### 1) 명령 프롬프트에서 실행\n",
        "\n",
        "### 2) IDLE에서 실행\n",
        "- 파이썬 쉘에서 실행\n",
        "- 코드 편집기 모드에서 실행\n",
        "\n",
        "### 3) 주피터 노트북(Jupyter Notebook)\n",
        "- Jupyter는 IPython을 이용해서 Python 코드 작성 및 Markdown 문서 작성이 가능한 웹 어플리케이션이다.\n",
        "- Jupyter notebook은 ipynb라는 확장자를 가지고 있다.\n",
        "- Anaconda 배포판에 포함되어 있다.\n",
        "\n",
        "#### 용어\n",
        "- 파이썬 대화형 인터프리터를 간단히 파이썬 쉘(Python shell)이라고 부른다."
      ]
    },
    {
      "cell_type": "code",
      "metadata": {
        "trusted": false,
        "id": "OG1DBZ-0yCOq",
        "colab_type": "code",
        "colab": {}
      },
      "source": [
        ""
      ],
      "execution_count": 0,
      "outputs": []
    }
  ]
}
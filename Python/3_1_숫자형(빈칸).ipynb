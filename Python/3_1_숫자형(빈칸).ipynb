{
  "nbformat": 4,
  "nbformat_minor": 0,
  "metadata": {
    "kernelspec": {
      "display_name": "Python 3",
      "language": "python",
      "name": "python3"
    },
    "language_info": {
      "codemirror_mode": {
        "name": "ipython",
        "version": 3
      },
      "file_extension": ".py",
      "mimetype": "text/x-python",
      "name": "python",
      "nbconvert_exporter": "python",
      "pygments_lexer": "ipython3",
      "version": "3.7.4"
    },
    "colab": {
      "name": "3-1. 숫자형(빈칸).ipynb",
      "provenance": [],
      "collapsed_sections": []
    }
  },
  "cells": [
    {
      "cell_type": "markdown",
      "metadata": {
        "id": "AMgfNt4StaCM",
        "colab_type": "text"
      },
      "source": [
        "# 3장. 자료형(data type)\n",
        "- 자료형은 데이터의 유형이다.\n",
        "- 파이썬은 int, float, complex, str, bytes, bool, list, tuple, dict, set 등 다양한 자료형을 제공한다."
      ]
    },
    {
      "cell_type": "code",
      "metadata": {
        "id": "C6eNZiAetaCO",
        "colab_type": "code",
        "colab": {}
      },
      "source": [
        "help(type)"
      ],
      "execution_count": 0,
      "outputs": []
    },
    {
      "cell_type": "markdown",
      "metadata": {
        "id": "AvvBRBc1taCR",
        "colab_type": "text"
      },
      "source": [
        "## 1. 숫자형(Numbers)\n",
        "- 숫자형은 숫자 형태로 이루어진 자료형이다.\n",
        "- 숫자형 데이터로 int, float, complex가 있다.\n",
        "\n",
        "### 1) 산술 연산자\n",
        "- 덧셈 +\n",
        "- 뺄셈 -\n",
        "- 곱셈 *\n",
        "- 거듭제곱 **\n",
        "- 나눗셈 /\n",
        "- 몫 //\n",
        "- 나머지 %\n",
        "\n",
        "#### 단항 연산자\n",
        "- +\n",
        "- -\n",
        "\n",
        "#### 우선순위\n",
        "1. 거듭제곱 **\n",
        "2. 단항 연산자 +, -\n",
        "3. *, /, //, %\n",
        "4. +, -\n",
        "\n",
        "### 2) 비트 연산자\n",
        "- AND연산 &\n",
        "- OR연산 |\n",
        "- XOR연산 ^\n",
        "- NOT연산 ~\n",
        "- 왼쪽 시프트 <<\n",
        "- 오른쪽 시프트 >>\n",
        "\n",
        "#### 우선순위\n",
        "1. 단항 연산자 ~\n",
        "2. <<, >>\n",
        "3. &\n",
        "4. |, ^\n",
        "\n",
        "### 3) 비교 연산자\n",
        "- 같다 ==\n",
        "- 다르다 !=\n",
        "- 작다 <\n",
        "- 크다 >\n",
        "- 작거나 같다 <=\n",
        "- 크거나 같다 >=\n",
        "\n",
        "#### 우선순위\n",
        "1. <, >, <=, >=\n",
        "2. ==, !=\n",
        "\n",
        "### 4) 복합 대입 연산자\n",
        "- +=\n",
        "- -=\n",
        "- *=\n",
        "- **=\n",
        "- /=\n",
        "- //=\n",
        "- %=\n",
        "\n",
        "### 5) 연산자 우선순위\n",
        "1. 산술 연산자\n",
        "2. 비트 연산자(~ 예외)\n",
        "3. 비교 연산자\n",
        "4. 대입 연산자\n",
        "\n",
        "### 6) 정수(integer)\n",
        "- 정수는 양의 정수와 음의 정수, 그리고 숫자 0을 의미한다."
      ]
    },
    {
      "cell_type": "code",
      "metadata": {
        "id": "IBxJ1kT7taCR",
        "colab_type": "code",
        "colab": {}
      },
      "source": [
        "type(1000)"
      ],
      "execution_count": 0,
      "outputs": []
    },
    {
      "cell_type": "code",
      "metadata": {
        "id": "n4JourtmtaCU",
        "colab_type": "code",
        "colab": {}
      },
      "source": [
        "type(-1000)"
      ],
      "execution_count": 0,
      "outputs": []
    },
    {
      "cell_type": "code",
      "metadata": {
        "id": "3NUrqMPytaCW",
        "colab_type": "code",
        "colab": {}
      },
      "source": [
        "type(0)"
      ],
      "execution_count": 0,
      "outputs": []
    },
    {
      "cell_type": "markdown",
      "metadata": {
        "id": "prhn9idvtaCY",
        "colab_type": "text"
      },
      "source": [
        "#### 정수값의 범위"
      ]
    },
    {
      "cell_type": "code",
      "metadata": {
        "id": "jkVxtaT_taCZ",
        "colab_type": "code",
        "colab": {}
      },
      "source": [
        "import sys\n",
        "t1 = sys.maxsize\n",
        "t2 = sys.maxsize+1\n",
        "print(t1)\n",
        "print(t2)\n",
        "print(t1*t2)"
      ],
      "execution_count": 0,
      "outputs": []
    },
    {
      "cell_type": "markdown",
      "metadata": {
        "id": "2Eecej2XtaCb",
        "colab_type": "text"
      },
      "source": [
        "- 파이썬은 정수값 범위에 제한없이 메모리가 허용하는 범위에서 정수값을 표현할 수 있다."
      ]
    },
    {
      "cell_type": "markdown",
      "metadata": {
        "id": "ThbiQAg3taCc",
        "colab_type": "text"
      },
      "source": [
        "#### 여러 가지 진수\n",
        "- 2진수 0b\n",
        "- 8진수 0o\n",
        "- 16진수 0x"
      ]
    },
    {
      "cell_type": "code",
      "metadata": {
        "id": "LGsfkv7qtaCc",
        "colab_type": "code",
        "colab": {}
      },
      "source": [
        "type(0b1100111000)"
      ],
      "execution_count": 0,
      "outputs": []
    },
    {
      "cell_type": "code",
      "metadata": {
        "id": "dYgqOsrHtaCf",
        "colab_type": "code",
        "colab": {}
      },
      "source": [
        "type(0o130)"
      ],
      "execution_count": 0,
      "outputs": []
    },
    {
      "cell_type": "code",
      "metadata": {
        "id": "mryZfJTDtaCh",
        "colab_type": "code",
        "colab": {}
      },
      "source": [
        "type(0x07A)"
      ],
      "execution_count": 0,
      "outputs": []
    },
    {
      "cell_type": "markdown",
      "metadata": {
        "id": "nuxZkiestaCj",
        "colab_type": "text"
      },
      "source": [
        "### 7) 실수(float)\n",
        "- 실수는 부동소수점수(floating point number)를 의미한다."
      ]
    },
    {
      "cell_type": "code",
      "metadata": {
        "id": "XJd898letaCj",
        "colab_type": "code",
        "colab": {}
      },
      "source": [
        "type(3.14)"
      ],
      "execution_count": 0,
      "outputs": []
    },
    {
      "cell_type": "code",
      "metadata": {
        "id": "K5XVUtYhtaCl",
        "colab_type": "code",
        "colab": {}
      },
      "source": [
        "type(3.0)"
      ],
      "execution_count": 0,
      "outputs": []
    },
    {
      "cell_type": "code",
      "metadata": {
        "id": "Z2dOkrcvtaCp",
        "colab_type": "code",
        "colab": {}
      },
      "source": [
        "type(.5)"
      ],
      "execution_count": 0,
      "outputs": []
    },
    {
      "cell_type": "code",
      "metadata": {
        "id": "Oi1mFl_ZtaCr",
        "colab_type": "code",
        "colab": {}
      },
      "source": [
        "type(10.)"
      ],
      "execution_count": 0,
      "outputs": []
    },
    {
      "cell_type": "markdown",
      "metadata": {
        "id": "YGmNDPK0taCt",
        "colab_type": "text"
      },
      "source": [
        "#### 실수 오차"
      ]
    },
    {
      "cell_type": "code",
      "metadata": {
        "id": "1ofUxVEGtaCt",
        "colab_type": "code",
        "colab": {}
      },
      "source": [
        "print(1.1-1.0)"
      ],
      "execution_count": 0,
      "outputs": []
    },
    {
      "cell_type": "markdown",
      "metadata": {
        "id": "yCZn1_EEtaCv",
        "colab_type": "text"
      },
      "source": [
        "- 실수끼리의 계산은 오차가 발생할 수 있으므로 정밀한 계산값을 필요로 하는 계산에서는 주의할 필요가 있다.\n",
        "- 실수는 동등 연산자로 비교하지 않고 일정한 오차범위를 정해서 비교하는 것이 적절하다."
      ]
    },
    {
      "cell_type": "markdown",
      "metadata": {
        "id": "1U1tsWgCtaCv",
        "colab_type": "text"
      },
      "source": [
        "#### 지수 표현\n",
        "- 지수 표현 e 뒤의 숫자는 *10^숫자를 의미한다."
      ]
    },
    {
      "cell_type": "code",
      "metadata": {
        "id": "Hyy3KV1ktaCw",
        "colab_type": "code",
        "colab": {}
      },
      "source": [
        "10e3"
      ],
      "execution_count": 0,
      "outputs": []
    },
    {
      "cell_type": "code",
      "metadata": {
        "id": "B5yOvAH6taCx",
        "colab_type": "code",
        "colab": {}
      },
      "source": [
        "type(10e3)"
      ],
      "execution_count": 0,
      "outputs": []
    },
    {
      "cell_type": "code",
      "metadata": {
        "id": "1uThv6GPtaC1",
        "colab_type": "code",
        "colab": {}
      },
      "source": [
        "1.23456e-2"
      ],
      "execution_count": 0,
      "outputs": []
    },
    {
      "cell_type": "code",
      "metadata": {
        "id": "ZAJfhY4ftaC4",
        "colab_type": "code",
        "colab": {}
      },
      "source": [
        "type(1.23456e-2)"
      ],
      "execution_count": 0,
      "outputs": []
    },
    {
      "cell_type": "markdown",
      "metadata": {
        "id": "45fBeozNtaC6",
        "colab_type": "text"
      },
      "source": [
        "### 8) 복소수(complex)\n",
        "- 복소수의 허수 표현에는 보통 i를 사용하는데, 파이썬은 j를 사용한다."
      ]
    },
    {
      "cell_type": "code",
      "metadata": {
        "id": "WfNPjjBWtaC6",
        "colab_type": "code",
        "colab": {}
      },
      "source": [
        "8+24j"
      ],
      "execution_count": 0,
      "outputs": []
    },
    {
      "cell_type": "code",
      "metadata": {
        "id": "_N5UVH26taC8",
        "colab_type": "code",
        "colab": {}
      },
      "source": [
        "(8+24j).real"
      ],
      "execution_count": 0,
      "outputs": []
    },
    {
      "cell_type": "code",
      "metadata": {
        "id": "CPQtIslftaC-",
        "colab_type": "code",
        "colab": {}
      },
      "source": [
        "(8+24j).imag"
      ],
      "execution_count": 0,
      "outputs": []
    },
    {
      "cell_type": "code",
      "metadata": {
        "id": "cQ-6XhCutaDA",
        "colab_type": "code",
        "colab": {}
      },
      "source": [
        "type(8+24j)"
      ],
      "execution_count": 0,
      "outputs": []
    },
    {
      "cell_type": "markdown",
      "metadata": {
        "id": "eCmB6u5gtaDC",
        "colab_type": "text"
      },
      "source": [
        "### 9) 수의 연산\n",
        "\n",
        "#### 사칙연산"
      ]
    },
    {
      "cell_type": "code",
      "metadata": {
        "id": "CZ7oCre6taDD",
        "colab_type": "code",
        "colab": {}
      },
      "source": [
        "print(1+1)\n",
        "print(4-2)\n",
        "print(3*4)\n",
        "print(10/2)"
      ],
      "execution_count": 0,
      "outputs": []
    },
    {
      "cell_type": "markdown",
      "metadata": {
        "id": "Hh35T4cltaDF",
        "colab_type": "text"
      },
      "source": [
        "- 파이썬은 정수끼리의 나눗셈이라고 하더라도 결과는 실수가 나온다."
      ]
    },
    {
      "cell_type": "code",
      "metadata": {
        "id": "lxup9q3WtaDF",
        "colab_type": "code",
        "colab": {}
      },
      "source": [
        "print(28/8)"
      ],
      "execution_count": 0,
      "outputs": []
    },
    {
      "cell_type": "markdown",
      "metadata": {
        "id": "qPINjS6vtaDJ",
        "colab_type": "text"
      },
      "source": [
        "- 소수점 이하의 결과는 버리는 나눗셈을 하려면 //를 사용한다."
      ]
    },
    {
      "cell_type": "code",
      "metadata": {
        "id": "wHfONhE0taDJ",
        "colab_type": "code",
        "colab": {}
      },
      "source": [
        "print(28//8)"
      ],
      "execution_count": 0,
      "outputs": []
    },
    {
      "cell_type": "markdown",
      "metadata": {
        "id": "cKMyvfH-taDL",
        "colab_type": "text"
      },
      "source": [
        "- 실수가 포함된 나눗셈이라고 해도 소수점 이하 값은 버린다. 하지만 결과는 실수로 나타낸다."
      ]
    },
    {
      "cell_type": "code",
      "metadata": {
        "id": "hPvd_6MjtaDL",
        "colab_type": "code",
        "colab": {}
      },
      "source": [
        "print(28//8.0)"
      ],
      "execution_count": 0,
      "outputs": []
    },
    {
      "cell_type": "markdown",
      "metadata": {
        "id": "3zAiwUqWtaDN",
        "colab_type": "text"
      },
      "source": [
        "#### 나머지"
      ]
    },
    {
      "cell_type": "code",
      "metadata": {
        "id": "v_p1rr9ttaDN",
        "colab_type": "code",
        "colab": {}
      },
      "source": [
        "print(5%2)"
      ],
      "execution_count": 0,
      "outputs": []
    },
    {
      "cell_type": "markdown",
      "metadata": {
        "id": "dz1Crq-VtaDP",
        "colab_type": "text"
      },
      "source": [
        "- 나머지 연산에 실수값을 사용할 수도 있다."
      ]
    },
    {
      "cell_type": "code",
      "metadata": {
        "id": "RPiMi6XitaDP",
        "colab_type": "code",
        "colab": {}
      },
      "source": [
        "print(5%2.2)"
      ],
      "execution_count": 0,
      "outputs": []
    },
    {
      "cell_type": "markdown",
      "metadata": {
        "id": "6xW6cN_9taDS",
        "colab_type": "text"
      },
      "source": [
        "- 실수가 포함된 나머지 연산의 결과값은 실수이다."
      ]
    },
    {
      "cell_type": "code",
      "metadata": {
        "id": "OtUBmyLYtaDS",
        "colab_type": "code",
        "colab": {}
      },
      "source": [
        "print(5%2.0)"
      ],
      "execution_count": 0,
      "outputs": []
    },
    {
      "cell_type": "markdown",
      "metadata": {
        "id": "r5jTL8BetaDU",
        "colab_type": "text"
      },
      "source": [
        "#### 거듭제곱"
      ]
    },
    {
      "cell_type": "code",
      "metadata": {
        "id": "ifnx1kcTtaDV",
        "colab_type": "code",
        "colab": {}
      },
      "source": [
        "print(2**10)"
      ],
      "execution_count": 0,
      "outputs": []
    },
    {
      "cell_type": "code",
      "metadata": {
        "id": "eEITJkiItaDY",
        "colab_type": "code",
        "colab": {}
      },
      "source": [
        "(2**2)**3"
      ],
      "execution_count": 0,
      "outputs": []
    },
    {
      "cell_type": "code",
      "metadata": {
        "id": "S2xYlSRKtaDa",
        "colab_type": "code",
        "colab": {}
      },
      "source": [
        "2**(2**3)"
      ],
      "execution_count": 0,
      "outputs": []
    },
    {
      "cell_type": "markdown",
      "metadata": {
        "id": "TB1PCjWutaDb",
        "colab_type": "text"
      },
      "source": [
        "- 거듭제곱의 결합법칙은 오른쪽에서 왼쪽이다."
      ]
    },
    {
      "cell_type": "code",
      "metadata": {
        "id": "gw1fZDJ6taDc",
        "colab_type": "code",
        "colab": {}
      },
      "source": [
        "2**2**3"
      ],
      "execution_count": 0,
      "outputs": []
    },
    {
      "cell_type": "markdown",
      "metadata": {
        "id": "kux7-cWdtaDe",
        "colab_type": "text"
      },
      "source": [
        "#### 서로 다른 유형의 수"
      ]
    },
    {
      "cell_type": "code",
      "metadata": {
        "id": "lAyXtkDHtaDf",
        "colab_type": "code",
        "colab": {}
      },
      "source": [
        "print(6+6.2)"
      ],
      "execution_count": 0,
      "outputs": []
    },
    {
      "cell_type": "markdown",
      "metadata": {
        "id": "7UH_P68ptaDh",
        "colab_type": "text"
      },
      "source": [
        "- 서로 다른 유형의 수가 같이 있는 수식에서 연산 결과는 표현 범위가 더 넓은 수로 계산결과를 표현한다."
      ]
    },
    {
      "cell_type": "markdown",
      "metadata": {
        "id": "LNTSW7djtaDh",
        "colab_type": "text"
      },
      "source": [
        "### 10) 수학 함수\n",
        "- https://docs.python.org/library/math.html"
      ]
    },
    {
      "cell_type": "code",
      "metadata": {
        "id": "MHl_Pki-taDi",
        "colab_type": "code",
        "colab": {}
      },
      "source": [
        "print(\"https://docs.python.org/3/library/math.html\")"
      ],
      "execution_count": 0,
      "outputs": []
    }
  ]
}
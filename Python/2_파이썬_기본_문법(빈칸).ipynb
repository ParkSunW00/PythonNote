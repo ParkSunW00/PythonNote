{
  "nbformat": 4,
  "nbformat_minor": 0,
  "metadata": {
    "kernelspec": {
      "display_name": "Python 3",
      "language": "python",
      "name": "python3"
    },
    "language_info": {
      "codemirror_mode": {
        "name": "ipython",
        "version": 3
      },
      "file_extension": ".py",
      "mimetype": "text/x-python",
      "name": "python",
      "nbconvert_exporter": "python",
      "pygments_lexer": "ipython3",
      "version": "3.7.4"
    },
    "colab": {
      "name": "2. 파이썬 기본 문법(빈칸).ipynb",
      "provenance": [],
      "collapsed_sections": []
    }
  },
  "cells": [
    {
      "cell_type": "markdown",
      "metadata": {
        "id": "2ZxAl1yjudRc",
        "colab_type": "text"
      },
      "source": [
        "# 2장. 파이썬 기본 문법"
      ]
    },
    {
      "cell_type": "code",
      "metadata": {
        "id": "3rGXHUIhudRd",
        "colab_type": "code",
        "colab": {}
      },
      "source": [
        "'Hello World'"
      ],
      "execution_count": 0,
      "outputs": []
    },
    {
      "cell_type": "code",
      "metadata": {
        "id": "etuT7kFFudRg",
        "colab_type": "code",
        "colab": {}
      },
      "source": [
        "help(print)"
      ],
      "execution_count": 0,
      "outputs": []
    },
    {
      "cell_type": "code",
      "metadata": {
        "id": "E_sKBF4MudRj",
        "colab_type": "code",
        "colab": {}
      },
      "source": [
        "print('Hello World')"
      ],
      "execution_count": 0,
      "outputs": []
    },
    {
      "cell_type": "markdown",
      "metadata": {
        "id": "rqpBSi_mudRl",
        "colab_type": "text"
      },
      "source": [
        "## 1. 프로그램 구성 요소\n",
        "- 예약어(keyword) : 파이썬 언어에서 문법적인 용도로 사용하는 특별한 단어. 변수 등 식별자로 사용할 수 없다."
      ]
    },
    {
      "cell_type": "code",
      "metadata": {
        "id": "q7vZdh87udRm",
        "colab_type": "code",
        "colab": {}
      },
      "source": [
        "import keyword\n",
        "keyword.kwlist"
      ],
      "execution_count": 0,
      "outputs": []
    },
    {
      "cell_type": "markdown",
      "metadata": {
        "id": "1-7CKVxcudRo",
        "colab_type": "text"
      },
      "source": [
        "- 주석 : 프로그램의 실행과 상관없는 설명을 적을 때 사용한다."
      ]
    },
    {
      "cell_type": "code",
      "metadata": {
        "id": "MB5yyvW3udRo",
        "colab_type": "code",
        "colab": {}
      },
      "source": [
        "#주석"
      ],
      "execution_count": 0,
      "outputs": []
    },
    {
      "cell_type": "markdown",
      "metadata": {
        "id": "AeQldcd8udRr",
        "colab_type": "text"
      },
      "source": [
        "- 변수\n",
        "- 상수\n",
        "- 함수\n",
        "- 클래스\n",
        "- 모듈\n",
        "- 패키지"
      ]
    },
    {
      "cell_type": "markdown",
      "metadata": {
        "id": "gvgPp6N-udRr",
        "colab_type": "text"
      },
      "source": [
        "## 2. 기본 문법"
      ]
    },
    {
      "cell_type": "markdown",
      "metadata": {
        "id": "BYyTNkWOudRs",
        "colab_type": "text"
      },
      "source": [
        "### 1) 인코딩(encoding)"
      ]
    },
    {
      "cell_type": "code",
      "metadata": {
        "id": "Stm07RiHudRs",
        "colab_type": "code",
        "colab": {}
      },
      "source": [
        "import sys\n",
        "print (sys.stdin.encoding)\n",
        "print (sys.stdout.encoding)"
      ],
      "execution_count": 0,
      "outputs": []
    },
    {
      "cell_type": "markdown",
      "metadata": {
        "id": "K04oP2hYudRw",
        "colab_type": "text"
      },
      "source": [
        "### 2) print() 함수"
      ]
    },
    {
      "cell_type": "code",
      "metadata": {
        "id": "WUAbS40FudRx",
        "colab_type": "code",
        "colab": {}
      },
      "source": [
        "help(print)"
      ],
      "execution_count": 0,
      "outputs": []
    },
    {
      "cell_type": "code",
      "metadata": {
        "id": "kCcQa14sudRz",
        "colab_type": "code",
        "colab": {}
      },
      "source": [
        "print ('Hello World')\n",
        "print (\"Hello World\")\n",
        "print ('''Hello World''')\n",
        "print (\"\"\"Hello World\"\"\")"
      ],
      "execution_count": 0,
      "outputs": []
    },
    {
      "cell_type": "code",
      "metadata": {
        "id": "7S9paB3judR1",
        "colab_type": "code",
        "colab": {}
      },
      "source": [
        "# separator\n",
        "print('Hello', 'World')\n",
        "print('Hello', 'World',sep='')\n",
        "print('2020', '04', '27', sep='-')\n",
        "print ('pjin11022','naver.com', sep='@')"
      ],
      "execution_count": 0,
      "outputs": []
    },
    {
      "cell_type": "code",
      "metadata": {
        "id": "nkfet9EyudR3",
        "colab_type": "code",
        "colab": {}
      },
      "source": [
        "# end\n",
        "print ('Hello', end='')\n",
        "print('World')\n",
        "print('Hello', end=',')\n",
        "print ('World')\n",
        "print ('Hello', end=' ')\n",
        "print('World')"
      ],
      "execution_count": 0,
      "outputs": []
    },
    {
      "cell_type": "markdown",
      "metadata": {
        "id": "XW1zlysMudR7",
        "colab_type": "text"
      },
      "source": [
        "### 3) 문장 구분\n",
        "- 한 라인에 한 개 구문을 쓸 때는 세미콜론(;)이 필요 없으나, 두 개 이상의 구문인 경우 ;으로 구분한다.\n",
        "- 한 개 구문이 길어 다음 라인까지 연결할 경우 \\를 사용한다."
      ]
    },
    {
      "cell_type": "code",
      "metadata": {
        "id": "VvWdYKy4udR8",
        "colab_type": "code",
        "colab": {}
      },
      "source": [
        "print ('Hello World')\n",
        "print('Life is short,'); print('You need Python')"
      ],
      "execution_count": 0,
      "outputs": []
    },
    {
      "cell_type": "markdown",
      "metadata": {
        "id": "QToFTOVMudR-",
        "colab_type": "text"
      },
      "source": [
        "### 4) 들여쓰기(indentation)\n",
        "- 들여쓰기를 통해 블록을 구성한다.\n",
        "- 들여쓰기는 4개의 공백(space)을 사용한다."
      ]
    },
    {
      "cell_type": "markdown",
      "metadata": {
        "id": "Wx6zK_gRudR_",
        "colab_type": "text"
      },
      "source": [
        "### 5) 변수(variable)\n",
        "- 변수는 값(value)을 참조하는 이름(식별자)이다.\n",
        "- 변수 이름은 일반적으로 데이터 저장 위치와 관련되어 있다.\n",
        "- 인터프리터는 변수의 상징적인 이름을 데이터의 실제 위치로 치환한다.\n",
        "\n",
        "#### 식별자 명명 규칙\n",
        "- 숫자, 문자, underscore(_)만 사용한다.\n",
        "- 대소문자를 구분한다.\n",
        "- 숫자로 시작할 수 없다.\n",
        "- 예약어(keyword)는 사용할 수 없다.\n",
        "\n",
        "#### 대입문과 대입 연산자\n",
        "변수 이름 = 값"
      ]
    },
    {
      "cell_type": "code",
      "metadata": {
        "id": "mQN3M-VTudR_",
        "colab_type": "code",
        "colab": {}
      },
      "source": [
        "help(id)"
      ],
      "execution_count": 0,
      "outputs": []
    },
    {
      "cell_type": "code",
      "metadata": {
        "id": "gLk28UVPudSC",
        "colab_type": "code",
        "colab": {}
      },
      "source": [
        "a = 1\n",
        "b = 2\n",
        "c = 3\n",
        "print (a, id(a))\n",
        "print (b, id(b))\n",
        "print (c, id(c))"
      ],
      "execution_count": 0,
      "outputs": []
    },
    {
      "cell_type": "code",
      "metadata": {
        "id": "E3_llEJSudSE",
        "colab_type": "code",
        "colab": {}
      },
      "source": [
        "d, e, f = 4, 5, 6\n",
        "print (d,e,f)"
      ],
      "execution_count": 0,
      "outputs": []
    },
    {
      "cell_type": "code",
      "metadata": {
        "id": "u4i21Bh6udSG",
        "colab_type": "code",
        "colab": {}
      },
      "source": [
        "i = j = 10\n",
        "print (i, j)"
      ],
      "execution_count": 0,
      "outputs": []
    },
    {
      "cell_type": "code",
      "metadata": {
        "id": "dED_7-f6udSJ",
        "colab_type": "code",
        "colab": {}
      },
      "source": [
        "k = None\n",
        "print(k)"
      ],
      "execution_count": 0,
      "outputs": []
    }
  ]
}